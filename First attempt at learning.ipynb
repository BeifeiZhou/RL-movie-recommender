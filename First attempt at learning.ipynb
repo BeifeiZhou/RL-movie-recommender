{
 "cells": [
  {
   "cell_type": "code",
   "execution_count": null,
   "metadata": {
    "collapsed": false
   },
   "outputs": [],
   "source": [
    "import pandas as pd\n",
    "import numpy as np\n",
    "import plotly\n",
    "import plotly.graph_objs as go\n",
    "plotly.offline.init_notebook_mode()\n",
    "import os\n",
    "import random\n",
    "\n",
    "DATA_DIR = \"data/\"\n",
    "SELECTED_DATA_DIR = \"selected-data/\"\n",
    "CSV_DIR = DATA_DIR + \"csv/\""
   ]
  },
  {
   "cell_type": "code",
   "execution_count": null,
   "metadata": {
    "collapsed": false
   },
   "outputs": [],
   "source": [
    "movies = pd.read_csv(SELECTED_DATA_DIR + \"best_movie_ratings_features_engineered.csv\", index_col=0)\n",
    "movies = movies.set_index(\"title\")\n",
    "movies.sample()"
   ]
  },
  {
   "cell_type": "code",
   "execution_count": null,
   "metadata": {
    "collapsed": false
   },
   "outputs": [],
   "source": [
    "users = pd.DataFrame()\n",
    "\n",
    "LIMIT=100\n",
    "\n",
    "files = os.listdir(SELECTED_DATA_DIR + \"csv/\")\n",
    "random.shuffle(files)\n",
    "\n",
    "for (i, filename) in enumerate(files):\n",
    "    frame = pd.read_csv(SELECTED_DATA_DIR + \"csv/\" + filename, header=-1)\n",
    "    users = users.append(frame, ignore_index=True)\n",
    "    if (i > LIMIT):\n",
    "        break\n",
    "    \n",
    "users.columns = [\"user\", \"movie\", \"rating\", \"link\"]\n",
    "users.rating = users.rating/10\n",
    "users.sample()"
   ]
  },
  {
   "cell_type": "code",
   "execution_count": null,
   "metadata": {
    "collapsed": false
   },
   "outputs": [],
   "source": [
    "user = users[users.user == users.sample().user.item()]\n",
    "user = user[user.movie.isin(movies.index)] # get only recommandations for movies that are in our list\n",
    "for id, recomm in user.iterrows():\n",
    "    assert(recomm.movie in movies.index)\n",
    "user = user.set_index(\"movie\")\n",
    "user.sample()"
   ]
  },
  {
   "cell_type": "code",
   "execution_count": null,
   "metadata": {
    "collapsed": false
   },
   "outputs": [],
   "source": [
    "movies_user = movies[movies.index.isin(user.index)]\n",
    "movies_user.sample()"
   ]
  },
  {
   "cell_type": "code",
   "execution_count": null,
   "metadata": {
    "collapsed": false
   },
   "outputs": [],
   "source": [
    "s = 1\n",
    "def utility(user_features, movie_features):\n",
    "    return user_features.dot(movie_features)\n",
    "\n",
    "def get_movie_features(movie):\n",
    "    if isinstance(movie, pd.Series):\n",
    "        return movie[2:]\n",
    "    elif isinstance(movie, pd.DataFrame):\n",
    "        return get_movie_features(movie.loc[movie.index[0]])\n",
    "    else:\n",
    "        raise TypeError(\"{} should be a Series or DataFrame\".format(movie))\n",
    "    \n",
    "\n",
    "def greedy_choice(user_features, movies, epsilon=0.1):\n",
    "    if random.random() > epsilon: # choose the best\n",
    "        utilities = np.zeros(movies.shape[0])\n",
    "        for i, (title, movie) in enumerate(movies.iterrows()):\n",
    "            movie_features = get_movie_features(movie)\n",
    "            utilities[i] = utility(user_features, movie_features)\n",
    "        return movies[movies.index == movies.index[utilities.argmax()]]\n",
    "    else:\n",
    "        return movies.sample()\n",
    "        \n",
    "def iterative_mean(old, new, t):\n",
    "    return ((t-1) / t) * old + (1/t) * new\n",
    "    \n",
    "def update_features(user_features, movie_features, rating, t):\n",
    "    return iterative_mean(user_features, movie_features * rating, t)\n",
    "\n",
    "user_features = np.zeros(movies_user.shape[1] - 2)\n",
    "Ui = 0\n",
    "\n",
    "for t in range(1, 10000):\n",
    "    recommandation = greedy_choice(user_features, movies_user)\n",
    "    recommandation_features = get_movie_features(recommandation)\n",
    "    user_rating = user.get_value(recommandation.index[0], \"rating\")\n",
    "    user_features = update_features(user_features, recommandation_features, user_rating, t)\n",
    "print(user_features)"
   ]
  },
  {
   "cell_type": "code",
   "execution_count": null,
   "metadata": {
    "collapsed": true
   },
   "outputs": [],
   "source": []
  }
 ],
 "metadata": {
  "kernelspec": {
   "display_name": "Python 3",
   "language": "python",
   "name": "python3"
  },
  "language_info": {
   "codemirror_mode": {
    "name": "ipython",
    "version": 3
   },
   "file_extension": ".py",
   "mimetype": "text/x-python",
   "name": "python",
   "nbconvert_exporter": "python",
   "pygments_lexer": "ipython3",
   "version": "3.5.2"
  }
 },
 "nbformat": 4,
 "nbformat_minor": 2
}
