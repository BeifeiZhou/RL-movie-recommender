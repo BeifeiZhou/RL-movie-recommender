{
 "cells": [
  {
   "cell_type": "code",
   "execution_count": null,
   "metadata": {
    "collapsed": false
   },
   "outputs": [],
   "source": [
    "import pandas as pd\n",
    "import numpy as np\n",
    "import plotly\n",
    "import plotly.graph_objs as go\n",
    "plotly.offline.init_notebook_mode()\n",
    "import os"
   ]
  },
  {
   "cell_type": "code",
   "execution_count": null,
   "metadata": {
    "collapsed": false
   },
   "outputs": [],
   "source": [
    "# load user ratings\n",
    "\n",
    "user_ratings = pd.DataFrame()\n",
    "\n",
    "DATA_DIR = \"data/\"\n",
    "CSV_DIR = DATA_DIR + \"csv/\"\n",
    "LIMIT=1000\n",
    "\n",
    "for (i, filename) in enumerate(os.listdir(CSV_DIR)):\n",
    "    frame = pd.read_csv(CSV_DIR + filename, header=-1)\n",
    "    user_ratings = user_ratings.append(frame, ignore_index=True)\n",
    "    if (i > LIMIT):\n",
    "        break\n",
    "    \n",
    "user_ratings.columns = [\"user\", \"movie\", \"rating\", \"link\"]\n",
    "user_ratings.sample(10)\n"
   ]
  },
  {
   "cell_type": "code",
   "execution_count": null,
   "metadata": {
    "collapsed": true
   },
   "outputs": [],
   "source": []
  },
  {
   "cell_type": "code",
   "execution_count": null,
   "metadata": {
    "collapsed": true
   },
   "outputs": [],
   "source": []
  }
 ],
 "metadata": {
  "kernelspec": {
   "display_name": "Python 3",
   "language": "python",
   "name": "python3"
  },
  "language_info": {
   "codemirror_mode": {
    "name": "ipython",
    "version": 3
   },
   "file_extension": ".py",
   "mimetype": "text/x-python",
   "name": "python",
   "nbconvert_exporter": "python",
   "pygments_lexer": "ipython3",
   "version": "3.5.2"
  }
 },
 "nbformat": 4,
 "nbformat_minor": 2
}
