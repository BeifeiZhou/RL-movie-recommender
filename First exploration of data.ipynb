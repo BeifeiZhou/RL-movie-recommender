{
 "cells": [
  {
   "cell_type": "code",
   "execution_count": null,
   "metadata": {
    "collapsed": false
   },
   "outputs": [],
   "source": [
    "import pandas as pd\n",
    "import numpy as np\n",
    "import plotly\n",
    "import plotly.graph_objs as go\n",
    "plotly.offline.init_notebook_mode()\n",
    "import os\n",
    "\n",
    "DATA_DIR = \"data/\"\n",
    "SELECTED_DATA_DIR = \"selected-data/\"\n",
    "CSV_DIR = DATA_DIR + \"csv/\""
   ]
  },
  {
   "cell_type": "code",
   "execution_count": null,
   "metadata": {
    "collapsed": false
   },
   "outputs": [],
   "source": [
    "# load user ratings\n",
    "\n",
    "user_ratings = pd.DataFrame()\n",
    "\n",
    "LIMIT=1000\n",
    "\n",
    "for (i, filename) in enumerate(os.listdir(CSV_DIR)):\n",
    "    frame = pd.read_csv(CSV_DIR + filename, header=-1)\n",
    "    user_ratings = user_ratings.append(frame, ignore_index=True)\n",
    "    if (i > LIMIT):\n",
    "        break\n",
    "    \n",
    "user_ratings.columns = [\"user\", \"movie\", \"rating\", \"link\"]\n",
    "user_ratings.sample(10)\n"
   ]
  },
  {
   "cell_type": "code",
   "execution_count": null,
   "metadata": {
    "collapsed": false
   },
   "outputs": [],
   "source": [
    "movie_ratings = pd.read_json(\"data/imdb_database.json\")\n",
    "movie_ratings"
   ]
  },
  {
   "cell_type": "code",
   "execution_count": null,
   "metadata": {
    "collapsed": false
   },
   "outputs": [],
   "source": [
    "best_movies = pd.read_csv(SELECTED_DATA_DIR + \"subsetmovie.csv\", sep=\";\", header=-1)\n",
    "best_movies.columns = [\"distribution\", \"votes\", \"rating\", \"title\"]\n",
    "best_movies.title = best_movies.title.apply(lambda x: x.strip())\n",
    "best_movies"
   ]
  },
  {
   "cell_type": "code",
   "execution_count": null,
   "metadata": {
    "collapsed": false
   },
   "outputs": [],
   "source": [
    "best_movies_ratings = pd.merge(best_movies, movie_ratings, how='left', left_on=\"title\", right_on=\"id\")\n",
    "best_movies_ratings"
   ]
  },
  {
   "cell_type": "code",
   "execution_count": null,
   "metadata": {
    "collapsed": true
   },
   "outputs": [],
   "source": [
    "best_movies_ratings.to_csv(SELECTED_DATA_DIR + \"best_movie_ratings_features.csv\")"
   ]
  },
  {
   "cell_type": "code",
   "execution_count": null,
   "metadata": {
    "collapsed": true
   },
   "outputs": [],
   "source": []
  }
 ],
 "metadata": {
  "kernelspec": {
   "display_name": "Python 3",
   "language": "python",
   "name": "python3"
  },
  "language_info": {
   "codemirror_mode": {
    "name": "ipython",
    "version": 3
   },
   "file_extension": ".py",
   "mimetype": "text/x-python",
   "name": "python",
   "nbconvert_exporter": "python",
   "pygments_lexer": "ipython3",
   "version": "3.5.2"
  }
 },
 "nbformat": 4,
 "nbformat_minor": 2
}
