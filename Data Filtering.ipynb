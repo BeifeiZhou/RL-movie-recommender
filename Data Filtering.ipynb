{
 "cells": [
  {
   "cell_type": "code",
   "execution_count": null,
   "metadata": {
    "collapsed": false
   },
   "outputs": [],
   "source": [
    "import pandas as pd\n",
    "import numpy as np\n",
    "import plotly\n",
    "import plotly.graph_objs as go\n",
    "plotly.offline.init_notebook_mode()\n",
    "import os\n",
    "import csv\n",
    "from shutil import copyfile"
   ]
  },
  {
   "cell_type": "code",
   "execution_count": null,
   "metadata": {
    "collapsed": false
   },
   "outputs": [],
   "source": [
    "df_subset = pd.read_csv('selected-data/subsetmovie.csv', sep=';', header=-1)\n",
    "df_subset.columns = [\"distribution\", \"votes\", \"rating\", \"title\"]"
   ]
  },
  {
   "cell_type": "code",
   "execution_count": null,
   "metadata": {
    "collapsed": false
   },
   "outputs": [],
   "source": [
    "df_subset.sample()"
   ]
  },
  {
   "cell_type": "code",
   "execution_count": null,
   "metadata": {
    "collapsed": true
   },
   "outputs": [],
   "source": [
    "DATA_DIR = \"data/\"\n",
    "CSV_DIR = DATA_DIR + \"csv/\"\n",
    "CSV_DIR_OUTPU = \"selected-data/csv\""
   ]
  },
  {
   "cell_type": "code",
   "execution_count": null,
   "metadata": {
    "collapsed": false,
    "scrolled": false
   },
   "outputs": [],
   "source": [
    "for (i, filename) in enumerate(os.listdir(CSV_DIR)):\n",
    "    frame = pd.read_csv(CSV_DIR + filename, header=-1)\n",
    "    frame.columns = [\"user\", \"movie\", \"rating\", \"link\"]\n",
    "    count = (len(list(set(frame.movie).intersection(df_subset.title))))\n",
    "    if count > 50:\n",
    "        copyfile(CSV_DIR + filename, 'selected-data/csv/' + filename)\n",
    "        "
   ]
  },
  {
   "cell_type": "code",
   "execution_count": null,
   "metadata": {
    "collapsed": true
   },
   "outputs": [],
   "source": []
  }
 ],
 "metadata": {
  "kernelspec": {
   "display_name": "Python 3",
   "language": "python",
   "name": "python3"
  },
  "language_info": {
   "codemirror_mode": {
    "name": "ipython",
    "version": 3
   },
   "file_extension": ".py",
   "mimetype": "text/x-python",
   "name": "python",
   "nbconvert_exporter": "python",
   "pygments_lexer": "ipython3",
   "version": "3.5.0"
  }
 },
 "nbformat": 4,
 "nbformat_minor": 2
}
